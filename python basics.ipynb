{
 "cells": [
  {
   "cell_type": "code",
   "execution_count": 1,
   "id": "a54b4a8a-ebd0-489f-9060-2a357e0370e3",
   "metadata": {},
   "outputs": [
    {
     "data": {
      "text/plain": [
       "2"
      ]
     },
     "execution_count": 1,
     "metadata": {},
     "output_type": "execute_result"
    }
   ],
   "source": [
    "1 + 1"
   ]
  },
  {
   "cell_type": "code",
   "execution_count": 2,
   "id": "2118da36-53cf-4588-baea-df00ab01b177",
   "metadata": {},
   "outputs": [
    {
     "data": {
      "text/plain": [
       "25"
      ]
     },
     "execution_count": 2,
     "metadata": {},
     "output_type": "execute_result"
    }
   ],
   "source": [
    "5*5"
   ]
  },
  {
   "cell_type": "code",
   "execution_count": 3,
   "id": "0e2a834a-19d2-4efb-b926-23577cc427be",
   "metadata": {},
   "outputs": [],
   "source": [
    "a = 10"
   ]
  },
  {
   "cell_type": "code",
   "execution_count": 4,
   "id": "2151617d-21fd-4ad1-b3da-9f82cbb6432e",
   "metadata": {},
   "outputs": [],
   "source": [
    "sudh = 20"
   ]
  },
  {
   "cell_type": "code",
   "execution_count": 5,
   "id": "62794bfb-67b5-4ebb-9fa8-f5d1547845d0",
   "metadata": {},
   "outputs": [
    {
     "data": {
      "text/plain": [
       "30"
      ]
     },
     "execution_count": 5,
     "metadata": {},
     "output_type": "execute_result"
    }
   ],
   "source": [
    "a+sudh"
   ]
  },
  {
   "cell_type": "code",
   "execution_count": 6,
   "id": "b73aaba9-e577-421b-84f7-6289ccdc58aa",
   "metadata": {},
   "outputs": [],
   "source": [
    "n=True"
   ]
  },
  {
   "cell_type": "code",
   "execution_count": 7,
   "id": "aef98b48-3753-4e88-b820-c0b450bfb43e",
   "metadata": {},
   "outputs": [],
   "source": [
    "m=False"
   ]
  },
  {
   "cell_type": "code",
   "execution_count": 8,
   "id": "273fea6e-b12c-4308-8652-5dc8b0ae68e4",
   "metadata": {},
   "outputs": [
    {
     "data": {
      "text/plain": [
       "1"
      ]
     },
     "execution_count": 8,
     "metadata": {},
     "output_type": "execute_result"
    }
   ],
   "source": [
    "n+m"
   ]
  },
  {
   "cell_type": "code",
   "execution_count": 9,
   "id": "6538faa2-cade-4bb6-b9b4-bb90e05c9883",
   "metadata": {},
   "outputs": [
    {
     "data": {
      "text/plain": [
       "1"
      ]
     },
     "execution_count": 9,
     "metadata": {},
     "output_type": "execute_result"
    }
   ],
   "source": [
    "True*True"
   ]
  },
  {
   "cell_type": "code",
   "execution_count": 10,
   "id": "aaefd942-aca5-4034-9b10-25bb75e663f4",
   "metadata": {},
   "outputs": [
    {
     "data": {
      "text/plain": [
       "0"
      ]
     },
     "execution_count": 10,
     "metadata": {},
     "output_type": "execute_result"
    }
   ],
   "source": [
    "True*False"
   ]
  },
  {
   "cell_type": "code",
   "execution_count": 11,
   "id": "eef8331b-a13f-4b26-bd2c-45c8689b1427",
   "metadata": {},
   "outputs": [
    {
     "ename": "ZeroDivisionError",
     "evalue": "division by zero",
     "output_type": "error",
     "traceback": [
      "\u001b[0;31m---------------------------------------------------------------------------\u001b[0m",
      "\u001b[0;31mZeroDivisionError\u001b[0m                         Traceback (most recent call last)",
      "Cell \u001b[0;32mIn[11], line 1\u001b[0m\n\u001b[0;32m----> 1\u001b[0m \u001b[38;5;28;43;01mTrue\u001b[39;49;00m\u001b[38;5;241;43m/\u001b[39;49m\u001b[38;5;28;43;01mFalse\u001b[39;49;00m\n",
      "\u001b[0;31mZeroDivisionError\u001b[0m: division by zero"
     ]
    }
   ],
   "source": [
    "True/False"
   ]
  },
  {
   "cell_type": "code",
   "execution_count": 12,
   "id": "827daf27-e318-45f5-afaf-fdacccb97ffd",
   "metadata": {},
   "outputs": [],
   "source": [
    "sudh=5+8j"
   ]
  },
  {
   "cell_type": "code",
   "execution_count": 13,
   "id": "2de1bcc3-10ca-41e5-9c67-56503f6d36b3",
   "metadata": {},
   "outputs": [
    {
     "data": {
      "text/plain": [
       "8.0"
      ]
     },
     "execution_count": 13,
     "metadata": {},
     "output_type": "execute_result"
    }
   ],
   "source": [
    "sudh.imag"
   ]
  },
  {
   "cell_type": "code",
   "execution_count": 16,
   "id": "10ca6f8a-f72e-496f-a8fd-1a5d054fada4",
   "metadata": {},
   "outputs": [
    {
     "data": {
      "text/plain": [
       "5.0"
      ]
     },
     "execution_count": 16,
     "metadata": {},
     "output_type": "execute_result"
    }
   ],
   "source": [
    "sudh.real"
   ]
  },
  {
   "cell_type": "code",
   "execution_count": 17,
   "id": "1656feec-339a-4f99-8ecc-4d41f3daad7f",
   "metadata": {},
   "outputs": [],
   "source": [
    "s = \"pwskillls\""
   ]
  },
  {
   "cell_type": "code",
   "execution_count": 18,
   "id": "b44a8bcd-bdfa-40f2-ac25-022c2749541b",
   "metadata": {},
   "outputs": [
    {
     "data": {
      "text/plain": [
       "'pws'"
      ]
     },
     "execution_count": 18,
     "metadata": {},
     "output_type": "execute_result"
    }
   ],
   "source": [
    "s[0:3]"
   ]
  },
  {
   "cell_type": "code",
   "execution_count": 19,
   "id": "85b0e067-9276-4b5b-8072-36f6018f51b6",
   "metadata": {},
   "outputs": [
    {
     "data": {
      "text/plain": [
       "'psil'"
      ]
     },
     "execution_count": 19,
     "metadata": {},
     "output_type": "execute_result"
    }
   ],
   "source": [
    "s[0:8:2]"
   ]
  },
  {
   "cell_type": "code",
   "execution_count": 20,
   "id": "22aabfb6-9887-4112-8720-f7416aead7dd",
   "metadata": {},
   "outputs": [
    {
     "data": {
      "text/plain": [
       "'pwsk'"
      ]
     },
     "execution_count": 20,
     "metadata": {},
     "output_type": "execute_result"
    }
   ],
   "source": [
    "s[0:4:1]"
   ]
  },
  {
   "cell_type": "code",
   "execution_count": 21,
   "id": "afcabad3-f5cc-4ab1-b10a-c60c7e06bd58",
   "metadata": {},
   "outputs": [
    {
     "data": {
      "text/plain": [
       "'psils'"
      ]
     },
     "execution_count": 21,
     "metadata": {},
     "output_type": "execute_result"
    }
   ],
   "source": [
    "s[::2]"
   ]
  },
  {
   "cell_type": "code",
   "execution_count": 22,
   "id": "cf8f585f-57d7-4fc3-ac27-29a4abcc1511",
   "metadata": {},
   "outputs": [
    {
     "data": {
      "text/plain": [
       "'slllikswp'"
      ]
     },
     "execution_count": 22,
     "metadata": {},
     "output_type": "execute_result"
    }
   ],
   "source": [
    "s[::-1]"
   ]
  },
  {
   "cell_type": "code",
   "execution_count": 23,
   "id": "99182bd0-ba56-4b06-be86-65b71ad2c409",
   "metadata": {},
   "outputs": [
    {
     "data": {
      "text/plain": [
       "''"
      ]
     },
     "execution_count": 23,
     "metadata": {},
     "output_type": "execute_result"
    }
   ],
   "source": [
    "s[2:7:-1]"
   ]
  },
  {
   "cell_type": "code",
   "execution_count": 24,
   "id": "13bf6065-665b-460d-bee9-5e4b6c09723e",
   "metadata": {},
   "outputs": [
    {
     "data": {
      "text/plain": [
       "''"
      ]
     },
     "execution_count": 24,
     "metadata": {},
     "output_type": "execute_result"
    }
   ],
   "source": [
    "s[8:0]"
   ]
  },
  {
   "cell_type": "code",
   "execution_count": 29,
   "id": "677f2d12-1a00-4b89-8b26-3e1e71f1e0ac",
   "metadata": {},
   "outputs": [
    {
     "data": {
      "text/plain": [
       "'llliks'"
      ]
     },
     "execution_count": 29,
     "metadata": {},
     "output_type": "execute_result"
    }
   ],
   "source": [
    "s[-2:-8:-1]"
   ]
  },
  {
   "cell_type": "code",
   "execution_count": 27,
   "id": "e2cf1e03-8e77-450a-80bb-9a05426e9ddd",
   "metadata": {},
   "outputs": [
    {
     "data": {
      "text/plain": [
       "'lllikswp'"
      ]
     },
     "execution_count": 27,
     "metadata": {},
     "output_type": "execute_result"
    }
   ],
   "source": [
    "s[-2::-1]"
   ]
  },
  {
   "cell_type": "code",
   "execution_count": 28,
   "id": "f9eddf42-e746-4b30-9fd8-4b3b2c812c16",
   "metadata": {},
   "outputs": [
    {
     "data": {
      "text/plain": [
       "'slllikswp'"
      ]
     },
     "execution_count": 28,
     "metadata": {},
     "output_type": "execute_result"
    }
   ],
   "source": [
    "s[::-1]"
   ]
  },
  {
   "cell_type": "code",
   "execution_count": 30,
   "id": "5e73c5a7-471c-4818-b3fc-0ab33a9ec9b0",
   "metadata": {},
   "outputs": [
    {
     "data": {
      "text/plain": [
       "'pwskillls'"
      ]
     },
     "execution_count": 30,
     "metadata": {},
     "output_type": "execute_result"
    }
   ],
   "source": [
    "s[::1]"
   ]
  },
  {
   "cell_type": "code",
   "execution_count": null,
   "id": "89255da2-7f38-4e0b-8a45-660a626179b0",
   "metadata": {},
   "outputs": [],
   "source": []
  }
 ],
 "metadata": {
  "kernelspec": {
   "display_name": "Python 3 (ipykernel)",
   "language": "python",
   "name": "python3"
  },
  "language_info": {
   "codemirror_mode": {
    "name": "ipython",
    "version": 3
   },
   "file_extension": ".py",
   "mimetype": "text/x-python",
   "name": "python",
   "nbconvert_exporter": "python",
   "pygments_lexer": "ipython3",
   "version": "3.10.8"
  }
 },
 "nbformat": 4,
 "nbformat_minor": 5
}
